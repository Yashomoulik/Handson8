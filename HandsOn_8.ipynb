{
  "nbformat": 4,
  "nbformat_minor": 0,
  "metadata": {
    "colab": {
      "provenance": [],
      "authorship_tag": "ABX9TyOanWzYQqOUUstRv/Y5JxX0",
      "include_colab_link": true
    },
    "kernelspec": {
      "name": "python3",
      "display_name": "Python 3"
    },
    "language_info": {
      "name": "python"
    }
  },
  "cells": [
    {
      "cell_type": "markdown",
      "metadata": {
        "id": "view-in-github",
        "colab_type": "text"
      },
      "source": [
        "<a href=\"https://colab.research.google.com/github/Yashomoulik/Handson8/blob/main/HandsOn_8.ipynb\" target=\"_parent\"><img src=\"https://colab.research.google.com/assets/colab-badge.svg\" alt=\"Open In Colab\"/></a>"
      ]
    },
    {
      "cell_type": "markdown",
      "source": [
        "1) Quicksort Implementation for i-th Order Statistic\n",
        "\n",
        "Description: This task leverages the Quicksort algorithm to implement a solution for finding the i-th smallest element in an unsorted array.\n",
        "Average Time Complexity: O(n log n)\n"
      ],
      "metadata": {
        "id": "MTgovmOjLvk4"
      }
    },
    {
      "cell_type": "code",
      "execution_count": 1,
      "metadata": {
        "colab": {
          "base_uri": "https://localhost:8080/"
        },
        "id": "yC7oCBVULU-N",
        "outputId": "132865f8-31e5-4d73-9953-73e54be1cf4e"
      },
      "outputs": [
        {
          "output_type": "stream",
          "name": "stdout",
          "text": [
            "The 2rd smallest element is 2\n"
          ]
        }
      ],
      "source": [
        "def partition(arr, low, high):\n",
        "    pivot = arr[high]\n",
        "    i = low - 1\n",
        "\n",
        "    for j in range(low, high):\n",
        "        if arr[j] <= pivot:\n",
        "            i += 1\n",
        "            arr[i], arr[j] = arr[j], arr[i]\n",
        "\n",
        "    arr[i + 1], arr[high] = arr[high], arr[i + 1]\n",
        "    return i + 1\n",
        "\n",
        "def quickselect(arr, low, high, i):\n",
        "    if low == high:\n",
        "        return arr[low]\n",
        "\n",
        "    pivot_index = partition(arr, low, high)\n",
        "    k = pivot_index - low + 1\n",
        "\n",
        "    if i == k:\n",
        "        return arr[pivot_index]\n",
        "    elif i < k:\n",
        "        return quickselect(arr, low, pivot_index - 1, i)\n",
        "    else:\n",
        "        return quickselect(arr, pivot_index + 1, high, i - k)\n",
        "\n",
        "# Example usage:\n",
        "arr = [4, 6, 2, 1, 8]\n",
        "i = 2\n",
        "ith_element = quickselect(arr, 0, len(arr) - 1, i)\n",
        "print(f\"The {i}rd smallest element is {ith_element}\")"
      ]
    },
    {
      "cell_type": "markdown",
      "source": [
        "2) Data Structures: Stack, Queue, and Singly Linked List\n",
        "\n",
        "Description: Basic implementations of Stack, Queue, and Singly Linked List, which simulate the behavior of these structures using fixed-size arrays. Each data structure includes essential operations such as push, pop, enqueue, dequeue, insert, delete, and search."
      ],
      "metadata": {
        "id": "e4EAn7h9MWC_"
      }
    },
    {
      "cell_type": "code",
      "source": [
        "class Stack:\n",
        "    def __init__(self, capacity):\n",
        "        self.capacity = capacity\n",
        "        self.stack = [0] * capacity\n",
        "        self.top = -1\n",
        "\n",
        "    def push(self, value):\n",
        "        if self.top == self.capacity - 1:\n",
        "            print(\"Stack overflow!\")\n",
        "            return\n",
        "        self.top += 1\n",
        "        self.stack[self.top] = value\n",
        "\n",
        "    def pop(self):\n",
        "        if self.top == -1:\n",
        "            print(\"Stack underflow!\")\n",
        "            return None\n",
        "        value = self.stack[self.top]\n",
        "        self.top -= 1\n",
        "        return value\n",
        "\n",
        "    def peek(self):\n",
        "        if self.top == -1:\n",
        "            print(\"Stack is empty!\")\n",
        "            return None\n",
        "        return self.stack[self.top]\n",
        "\n",
        "class Queue:\n",
        "    def __init__(self, capacity):\n",
        "        self.capacity = capacity\n",
        "        self.queue = [0] * capacity\n",
        "        self.front = 0\n",
        "        self.rear = -1\n",
        "        self.size = 0\n",
        "\n",
        "    def enqueue(self, value):\n",
        "        if self.size == self.capacity:\n",
        "            print(\"Queue overflow!\")\n",
        "            return\n",
        "        self.rear = (self.rear + 1) % self.capacity\n",
        "        self.queue[self.rear] = value\n",
        "        self.size += 1\n",
        "\n",
        "    def dequeue(self):\n",
        "        if self.size == 0:\n",
        "            print(\"Queue underflow!\")\n",
        "            return None\n",
        "        value = self.queue[self.front]\n",
        "        self.front = (self.front + 1) % self.capacity\n",
        "        self.size -= 1\n",
        "        return value\n",
        "\n",
        "    def front_element(self):\n",
        "        if self.size == 0:\n",
        "            print(\"Queue is empty!\")\n",
        "            return None\n",
        "        return self.queue[self.front]\n",
        "\n",
        "class Node:\n",
        "    def __init__(self, data=None):\n",
        "        self.data = data\n",
        "        self.next = None\n",
        "\n",
        "class SinglyLinkedList:\n",
        "    def __init__(self):\n",
        "        self.head = None\n",
        "\n",
        "    def append(self, data):\n",
        "        new_node = Node(data)\n",
        "        if not self.head:\n",
        "            self.head = new_node\n",
        "            return\n",
        "        last = self.head\n",
        "        while last.next:\n",
        "            last = last.next\n",
        "        last.next = new_node\n",
        "\n",
        "    def display(self):\n",
        "        current = self.head\n",
        "        while current:\n",
        "            print(current.data, end=\" -> \")\n",
        "            current = current.next\n",
        "        print(\"None\")\n",
        "\n",
        "# Example usage:\n",
        "\n",
        "# Stack operations\n",
        "stack = Stack(6)\n",
        "stack.push(20)\n",
        "stack.push(30)\n",
        "print(\"Popped from stack:\", stack.pop())\n",
        "\n",
        "# Queue operations\n",
        "queue = Queue(6)\n",
        "queue.enqueue(20)\n",
        "queue.enqueue(30)\n",
        "print(\"Dequeued from queue:\", queue.dequeue())\n",
        "\n",
        "# Singly Linked List operations\n",
        "linked_list = SinglyLinkedList()\n",
        "linked_list.append(20)\n",
        "linked_list.append(30)\n",
        "linked_list.display()"
      ],
      "metadata": {
        "colab": {
          "base_uri": "https://localhost:8080/"
        },
        "id": "XyJCuXNTL9d5",
        "outputId": "7dcbf58a-f5ec-403f-808a-83a9ec5f4e62"
      },
      "execution_count": 2,
      "outputs": [
        {
          "output_type": "stream",
          "name": "stdout",
          "text": [
            "Popped from stack: 30\n",
            "Dequeued from queue: 20\n",
            "20 -> 30 -> None\n"
          ]
        }
      ]
    }
  ]
}